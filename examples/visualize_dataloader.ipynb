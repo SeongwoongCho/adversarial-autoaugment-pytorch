{
 "cells": [
  {
   "cell_type": "code",
   "execution_count": 1,
   "metadata": {},
   "outputs": [],
   "source": [
    "import sys\n",
    "sys.path.insert(0,'../src/')"
   ]
  },
  {
   "cell_type": "code",
   "execution_count": 2,
   "metadata": {},
   "outputs": [
    {
     "name": "stdout",
     "output_type": "stream",
     "text": [
      "Files already downloaded and verified\n",
      "Files already downloaded and verified\n",
      "Files already downloaded and verified\n"
     ]
    }
   ],
   "source": [
    "import argparse\n",
    "import numpy as np\n",
    "import torch\n",
    "\n",
    "import sys\n",
    "from tqdm import tqdm\n",
    "from dataloader.dataloader import get_dataloader\n",
    "from dataloader.transform import parse_policies, MultiAugmentation\n",
    "from optimizer_scheduler import get_optimizer_scheduler\n",
    "from models import *\n",
    "from utils import *\n",
    "from dataloader.augmentations import *\n",
    "import matplotlib.pyplot as plt\n",
    "\n",
    "conf = load_yaml('../src/confs/cifar10/wresnet28x10_cifar10.yaml')\n",
    "\n",
    "train_sampler, train_loader, valid_loader, test_loader = get_dataloader(\n",
    "    conf, dataroot = '../src/dataloader/datasets', split = 0, split_idx = 0, multinode = False)"
   ]
  },
  {
   "cell_type": "code",
   "execution_count": 3,
   "metadata": {},
   "outputs": [],
   "source": [
    "# controller.eval()\n",
    "# policies, log_probs, entropies = controller(1) # (M,2*2*5) (M,) (M,) \n",
    "# policies = policies.cpu().detach().numpy()\n",
    "# parsed_policies = parse_policies(policies)        \n",
    "trfs_list = train_loader.dataset.dataset.transform.transforms \n",
    "parsed_policies = [[[('Invert', 0.6666666666666666), ('Solarize', 0.0)],\n",
    "  [('Rotate', 0.6666666666666666), ('Posterize', 0.5555555555555556)],\n",
    "  [('Solarize', 0.3333333333333333), ('Color', 0.0)],\n",
    "  [('ShearX', 0.0), ('TranslateY', 1.0)],\n",
    "  [('Contrast', 0.4444444444444444), ('Posterize', 0.7777777777777778)]]]\n",
    "trfs_list[2] = MultiAugmentation(parsed_policies)## replace augmentation into new one"
   ]
  },
  {
   "cell_type": "code",
   "execution_count": null,
   "metadata": {},
   "outputs": [
    {
     "name": "stderr",
     "output_type": "stream",
     "text": [
      "Clipping input data to the valid range for imshow with RGB data ([0..1] for floats or [0..255] for integers).\n"
     ]
    }
   ],
   "source": [
    "MEAN, STD = (0.4914, 0.4822, 0.4465), (0.2023, 0.1994, 0.2010)\n",
    "for i,(data,label) in enumerate(train_loader):\n",
    "    img = data[0].detach().numpy()\n",
    "    img = img * np.array(STD)[...,np.newaxis,np.newaxis] + np.array(MEAN)[...,np.newaxis,np.newaxis]\n",
    "    img = img.swapaxes(0,1).swapaxes(1,2)\n",
    "    plt.imshow(img)\n",
    "    break"
   ]
  },
  {
   "cell_type": "code",
   "execution_count": 63,
   "metadata": {},
   "outputs": [
    {
     "data": {
      "image/png": "[encoded data removed]",
      "text/plain": [
       "<Figure size 432x288 with 1 Axes>"
      ]
     },
     "metadata": {},
     "output_type": "display_data"
    }
   ],
   "source": [
    "MEAN, STD = (0.4914, 0.4822, 0.4465), (0.2023, 0.1994, 0.2010)\n",
    "for i,(data,label) in enumerate(valid_loader):\n",
    "    img = data[0].cpu().detach().numpy()\n",
    "    img = img * np.array(STD)[...,np.newaxis,np.newaxis] + np.array(MEAN)[...,np.newaxis,np.newaxis]\n",
    "    img = img.swapaxes(0,1).swapaxes(1,2)\n",
    "    plt.imshow(img)\n",
    "    break"
   ]
  },
  {
   "cell_type": "code",
   "execution_count": 59,
   "metadata": {},
   "outputs": [
    {
     "data": {
      "text/plain": [
       "0.9372549225330353"
      ]
     },
     "execution_count": 59,
     "metadata": {},
     "output_type": "execute_result"
    }
   ],
   "source": [
    "img.max()"
   ]
  },
  {
   "cell_type": "code",
   "execution_count": null,
   "metadata": {},
   "outputs": [],
   "source": []
  }
 ],
 "metadata": {
  "kernelspec": {
   "display_name": "Environment (conda_pytorch_p36)",
   "language": "python",
   "name": "conda_pytorch_p36"
  },
  "language_info": {
   "codemirror_mode": {
    "name": "ipython",
    "version": 3
   },
   "file_extension": ".py",
   "mimetype": "text/x-python",
   "name": "python",
   "nbconvert_exporter": "python",
   "pygments_lexer": "ipython3",
   "version": "3.6.5"
  }
 },
 "nbformat": 4,
 "nbformat_minor": 2
}
